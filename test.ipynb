{
 "cells": [
  {
   "cell_type": "markdown",
   "metadata": {},
   "source": [
    "## Imports"
   ]
  },
  {
   "cell_type": "code",
   "execution_count": 17,
   "metadata": {},
   "outputs": [],
   "source": [
    "import pandas as pd\n",
    "from my_model_package.forecasting.utils import pre_processing"
   ]
  },
  {
   "cell_type": "markdown",
   "metadata": {},
   "source": [
    "## Load Data"
   ]
  },
  {
   "cell_type": "code",
   "execution_count": 18,
   "metadata": {},
   "outputs": [
    {
     "name": "stderr",
     "output_type": "stream",
     "text": [
      "/var/folders/5q/f280wjd15s56_y9s5ntbx3rw0000gn/T/ipykernel_2223/1277315867.py:1: DtypeWarning: Columns (7,9,13,14,15,35) have mixed types. Specify dtype option on import or set low_memory=False.\n",
      "  df = pd.read_csv('blight_violations.csv')\n"
     ]
    }
   ],
   "source": [
    "df = pd.read_csv('blight_violations.csv')"
   ]
  },
  {
   "cell_type": "markdown",
   "metadata": {},
   "source": [
    "## Apply Processing Function"
   ]
  },
  {
   "cell_type": "code",
   "execution_count": 19,
   "metadata": {},
   "outputs": [
    {
     "name": "stderr",
     "output_type": "stream",
     "text": [
      "/Users/stanislas/Projet_Pierre/Projet_Pierre/ML_Deployment-Judgment_Outputs/my_model_package/forecasting/utils.py:117: SettingWithCopyWarning: \n",
      "A value is trying to be set on a copy of a slice from a DataFrame.\n",
      "Try using .loc[row_indexer,col_indexer] = value instead\n",
      "\n",
      "See the caveats in the documentation: https://pandas.pydata.org/pandas-docs/stable/user_guide/indexing.html#returning-a-view-versus-a-copy\n",
      "  df['violation_category'] = df['violation_description'].astype(str).apply(lambda x: map_violation_category(x))\n",
      "/Users/stanislas/Projet_Pierre/Projet_Pierre/ML_Deployment-Judgment_Outputs/my_model_package/forecasting/utils.py:119: SettingWithCopyWarning: \n",
      "A value is trying to be set on a copy of a slice from a DataFrame.\n",
      "Try using .loc[row_indexer,col_indexer] = value instead\n",
      "\n",
      "See the caveats in the documentation: https://pandas.pydata.org/pandas-docs/stable/user_guide/indexing.html#returning-a-view-versus-a-copy\n",
      "  df['violation_category'] = df.apply(convert_to_other, axis=1)\n"
     ]
    }
   ],
   "source": [
    "df = pre_processing(df)"
   ]
  },
  {
   "cell_type": "markdown",
   "metadata": {},
   "source": [
    "## Print df"
   ]
  },
  {
   "cell_type": "code",
   "execution_count": 20,
   "metadata": {},
   "outputs": [
    {
     "data": {
      "text/html": [
       "<div>\n",
       "<style scoped>\n",
       "    .dataframe tbody tr th:only-of-type {\n",
       "        vertical-align: middle;\n",
       "    }\n",
       "\n",
       "    .dataframe tbody tr th {\n",
       "        vertical-align: top;\n",
       "    }\n",
       "\n",
       "    .dataframe thead th {\n",
       "        text-align: right;\n",
       "    }\n",
       "</style>\n",
       "<table border=\"1\" class=\"dataframe\">\n",
       "  <thead>\n",
       "    <tr style=\"text-align: right;\">\n",
       "      <th></th>\n",
       "      <th>agency_name</th>\n",
       "      <th>violation_street_name</th>\n",
       "      <th>state</th>\n",
       "      <th>violation_date</th>\n",
       "      <th>hearing_date</th>\n",
       "      <th>hearing_time</th>\n",
       "      <th>judgment_date</th>\n",
       "      <th>disposition</th>\n",
       "      <th>fine_amount</th>\n",
       "      <th>admin_fee</th>\n",
       "      <th>state_fee</th>\n",
       "      <th>late_fee</th>\n",
       "      <th>discount_amount</th>\n",
       "      <th>judgment_amount</th>\n",
       "      <th>balance_due</th>\n",
       "      <th>payment_status</th>\n",
       "      <th>violation_category</th>\n",
       "      <th>is_judgment_later</th>\n",
       "    </tr>\n",
       "  </thead>\n",
       "  <tbody>\n",
       "    <tr>\n",
       "      <th>1</th>\n",
       "      <td>Buildings, Safety Engineering &amp; Env Department</td>\n",
       "      <td>Charlevoix</td>\n",
       "      <td>Mi</td>\n",
       "      <td>2006-11-08 00:00:00</td>\n",
       "      <td>2006-11-30 00:00:00</td>\n",
       "      <td>9:00AM</td>\n",
       "      <td>2006-11-30 10:23:59</td>\n",
       "      <td>Responsible by Default</td>\n",
       "      <td>250.0</td>\n",
       "      <td>20.0</td>\n",
       "      <td>10.0</td>\n",
       "      <td>0.0</td>\n",
       "      <td>0.0</td>\n",
       "      <td>280.0</td>\n",
       "      <td>280.0</td>\n",
       "      <td>NO PAYMENT</td>\n",
       "      <td>No Certificate</td>\n",
       "      <td>1</td>\n",
       "    </tr>\n",
       "    <tr>\n",
       "      <th>2</th>\n",
       "      <td>Buildings, Safety Engineering &amp; Env Department</td>\n",
       "      <td>Chrysler</td>\n",
       "      <td>Mi</td>\n",
       "      <td>2006-11-08 00:00:00</td>\n",
       "      <td>2006-11-30 00:00:00</td>\n",
       "      <td>9:00AM</td>\n",
       "      <td>2006-11-30 00:00:00</td>\n",
       "      <td>Responsible by Admission</td>\n",
       "      <td>250.0</td>\n",
       "      <td>20.0</td>\n",
       "      <td>10.0</td>\n",
       "      <td>0.0</td>\n",
       "      <td>0.0</td>\n",
       "      <td>280.0</td>\n",
       "      <td>280.0</td>\n",
       "      <td>PAID IN FULL</td>\n",
       "      <td>No Certificate</td>\n",
       "      <td>0</td>\n",
       "    </tr>\n",
       "    <tr>\n",
       "      <th>3</th>\n",
       "      <td>Buildings, Safety Engineering &amp; Env Department</td>\n",
       "      <td>St marys</td>\n",
       "      <td>Mi</td>\n",
       "      <td>2006-11-08 00:00:00</td>\n",
       "      <td>2006-12-13 00:00:00</td>\n",
       "      <td>3:00PM</td>\n",
       "      <td>2006-12-13 15:23:18</td>\n",
       "      <td>Responsible by Default</td>\n",
       "      <td>250.0</td>\n",
       "      <td>20.0</td>\n",
       "      <td>10.0</td>\n",
       "      <td>0.0</td>\n",
       "      <td>0.0</td>\n",
       "      <td>280.0</td>\n",
       "      <td>280.0</td>\n",
       "      <td>NO PAYMENT</td>\n",
       "      <td>No Certificate</td>\n",
       "      <td>1</td>\n",
       "    </tr>\n",
       "    <tr>\n",
       "      <th>6</th>\n",
       "      <td>Buildings, Safety Engineering &amp; Env Department</td>\n",
       "      <td>Warren</td>\n",
       "      <td>Mi</td>\n",
       "      <td>2006-11-08 00:00:00</td>\n",
       "      <td>2006-11-30 00:00:00</td>\n",
       "      <td>9:00AM</td>\n",
       "      <td>2006-11-30 10:23:03</td>\n",
       "      <td>Responsible by Default</td>\n",
       "      <td>250.0</td>\n",
       "      <td>20.0</td>\n",
       "      <td>10.0</td>\n",
       "      <td>0.0</td>\n",
       "      <td>0.0</td>\n",
       "      <td>280.0</td>\n",
       "      <td>280.0</td>\n",
       "      <td>NO PAYMENT</td>\n",
       "      <td>No Certificate</td>\n",
       "      <td>1</td>\n",
       "    </tr>\n",
       "    <tr>\n",
       "      <th>9</th>\n",
       "      <td>Buildings, Safety Engineering &amp; Env Department</td>\n",
       "      <td>Oakland</td>\n",
       "      <td>Mi</td>\n",
       "      <td>2006-11-08 00:00:00</td>\n",
       "      <td>2006-11-30 00:00:00</td>\n",
       "      <td>9:00AM</td>\n",
       "      <td>2006-11-30 10:26:26</td>\n",
       "      <td>Responsible by Default</td>\n",
       "      <td>250.0</td>\n",
       "      <td>20.0</td>\n",
       "      <td>10.0</td>\n",
       "      <td>0.0</td>\n",
       "      <td>0.0</td>\n",
       "      <td>280.0</td>\n",
       "      <td>280.0</td>\n",
       "      <td>NO PAYMENT</td>\n",
       "      <td>No Certificate</td>\n",
       "      <td>1</td>\n",
       "    </tr>\n",
       "  </tbody>\n",
       "</table>\n",
       "</div>"
      ],
      "text/plain": [
       "                                      agency_name violation_street_name state  \\\n",
       "1  Buildings, Safety Engineering & Env Department            Charlevoix    Mi   \n",
       "2  Buildings, Safety Engineering & Env Department              Chrysler    Mi   \n",
       "3  Buildings, Safety Engineering & Env Department              St marys    Mi   \n",
       "6  Buildings, Safety Engineering & Env Department                Warren    Mi   \n",
       "9  Buildings, Safety Engineering & Env Department               Oakland    Mi   \n",
       "\n",
       "        violation_date         hearing_date hearing_time        judgment_date  \\\n",
       "1  2006-11-08 00:00:00  2006-11-30 00:00:00       9:00AM  2006-11-30 10:23:59   \n",
       "2  2006-11-08 00:00:00  2006-11-30 00:00:00       9:00AM  2006-11-30 00:00:00   \n",
       "3  2006-11-08 00:00:00  2006-12-13 00:00:00       3:00PM  2006-12-13 15:23:18   \n",
       "6  2006-11-08 00:00:00  2006-11-30 00:00:00       9:00AM  2006-11-30 10:23:03   \n",
       "9  2006-11-08 00:00:00  2006-11-30 00:00:00       9:00AM  2006-11-30 10:26:26   \n",
       "\n",
       "                disposition  fine_amount  admin_fee  state_fee  late_fee  \\\n",
       "1    Responsible by Default        250.0       20.0       10.0       0.0   \n",
       "2  Responsible by Admission        250.0       20.0       10.0       0.0   \n",
       "3    Responsible by Default        250.0       20.0       10.0       0.0   \n",
       "6    Responsible by Default        250.0       20.0       10.0       0.0   \n",
       "9    Responsible by Default        250.0       20.0       10.0       0.0   \n",
       "\n",
       "   discount_amount  judgment_amount  balance_due payment_status  \\\n",
       "1              0.0            280.0        280.0     NO PAYMENT   \n",
       "2              0.0            280.0        280.0   PAID IN FULL   \n",
       "3              0.0            280.0        280.0     NO PAYMENT   \n",
       "6              0.0            280.0        280.0     NO PAYMENT   \n",
       "9              0.0            280.0        280.0     NO PAYMENT   \n",
       "\n",
       "  violation_category  is_judgment_later  \n",
       "1     No Certificate                  1  \n",
       "2     No Certificate                  0  \n",
       "3     No Certificate                  1  \n",
       "6     No Certificate                  1  \n",
       "9     No Certificate                  1  "
      ]
     },
     "execution_count": 20,
     "metadata": {},
     "output_type": "execute_result"
    }
   ],
   "source": [
    "df.head()"
   ]
  },
  {
   "cell_type": "code",
   "execution_count": 22,
   "metadata": {},
   "outputs": [
    {
     "data": {
      "text/plain": [
       "agency_name                 0\n",
       "violation_street_name      17\n",
       "state                    3709\n",
       "violation_date              0\n",
       "hearing_date                0\n",
       "hearing_time                0\n",
       "judgment_date               0\n",
       "disposition                 0\n",
       "fine_amount                 2\n",
       "admin_fee                   0\n",
       "state_fee                   0\n",
       "late_fee                    6\n",
       "discount_amount             3\n",
       "judgment_amount             0\n",
       "balance_due                 0\n",
       "payment_status              0\n",
       "violation_category          0\n",
       "is_judgment_later           0\n",
       "dtype: int64"
      ]
     },
     "execution_count": 22,
     "metadata": {},
     "output_type": "execute_result"
    }
   ],
   "source": [
    "df.isnull().sum()"
   ]
  },
  {
   "cell_type": "code",
   "execution_count": null,
   "metadata": {},
   "outputs": [],
   "source": []
  }
 ],
 "metadata": {
  "kernelspec": {
   "display_name": "myenv",
   "language": "python",
   "name": "python3"
  },
  "language_info": {
   "codemirror_mode": {
    "name": "ipython",
    "version": 3
   },
   "file_extension": ".py",
   "mimetype": "text/x-python",
   "name": "python",
   "nbconvert_exporter": "python",
   "pygments_lexer": "ipython3",
   "version": "3.12.4"
  }
 },
 "nbformat": 4,
 "nbformat_minor": 2
}
